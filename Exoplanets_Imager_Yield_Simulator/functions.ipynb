{
 "cells": [
  {
   "cell_type": "code",
   "execution_count": 1,
   "metadata": {},
   "outputs": [],
   "source": [
    "import import_ipynb\n",
    "import numpy as np\n",
    "import math"
   ]
  },
  {
   "cell_type": "markdown",
   "metadata": {},
   "source": [
    "# Astrophysics constants"
   ]
  },
  {
   "cell_type": "code",
   "execution_count": 2,
   "metadata": {},
   "outputs": [],
   "source": [
    "#Unités du système international\n",
    "h = 6.63E-34\n",
    "c = 3.00E8\n",
    "k_b = 1.38E-23\n",
    "pc = 3.08E16\n",
    "\n",
    "M_so = 1.988E30 #Masse Solaire (kg)\n",
    "R_so = 6.96E8 # Rayon solaire\n",
    "R_Terre = 6378.137E3 # mètres\n",
    "AU = 1.50E11\n",
    "RJ=7.15E7\n",
    "MJ= 1.90E27\n",
    "M_Terre = 5.97e24 # kg\n",
    "T_Terre = 254.3 #Kelvin\n",
    "TJ = 110.0 #Kelvin\n",
    "rho_J = 1326 # kg/m³ Masse volumique globale de Jupiter\n",
    "rho_Terre = 5515 # kg/m³ Masse volumique globale de la Terre\n",
    "\n",
    "m2r = 4.85E-9\n",
    "A_B = 0.3 # BOND ALBEDO FOR JUPITER AND EARTH"
   ]
  },
  {
   "cell_type": "markdown",
   "metadata": {},
   "source": [
    "# Input parameters"
   ]
  },
  {
   "cell_type": "markdown",
   "metadata": {},
   "source": [
    "Wavelength of observation (meters)"
   ]
  },
  {
   "cell_type": "code",
   "execution_count": 3,
   "metadata": {},
   "outputs": [],
   "source": [
    "L = 500E-9 "
   ]
  },
  {
   "cell_type": "markdown",
   "metadata": {},
   "source": [
    "Maximum limit of contrast"
   ]
  },
  {
   "cell_type": "code",
   "execution_count": 4,
   "metadata": {},
   "outputs": [],
   "source": [
    "C_lim = 1E-10"
   ]
  },
  {
   "cell_type": "markdown",
   "metadata": {},
   "source": [
    "Base Line of the instrument"
   ]
  },
  {
   "cell_type": "code",
   "execution_count": 5,
   "metadata": {},
   "outputs": [],
   "source": [
    "B_max = 200 "
   ]
  },
  {
   "cell_type": "markdown",
   "metadata": {},
   "source": [
    "Inner Working Angle (mas)"
   ]
  },
  {
   "cell_type": "code",
   "execution_count": 6,
   "metadata": {},
   "outputs": [],
   "source": [
    "R = L/(2*B_max)*(1/m2r)"
   ]
  },
  {
   "cell_type": "markdown",
   "metadata": {},
   "source": [
    "Outer working angle (mas)"
   ]
  },
  {
   "cell_type": "code",
   "execution_count": 7,
   "metadata": {},
   "outputs": [],
   "source": [
    "OWA = 250 "
   ]
  },
  {
   "cell_type": "markdown",
   "metadata": {},
   "source": [
    "Other parameters"
   ]
  },
  {
   "cell_type": "code",
   "execution_count": 8,
   "metadata": {},
   "outputs": [],
   "source": [
    "S= 1e-42 # Theoritical Sensibility\n",
    "T_max = 1  # Integration maximum days\n",
    "Trans = 0.5 # Transmission factor of optics"
   ]
  },
  {
   "cell_type": "markdown",
   "metadata": {},
   "source": [
    "# Recomputation of the Planetary radius"
   ]
  },
  {
   "cell_type": "code",
   "execution_count": 9,
   "metadata": {},
   "outputs": [],
   "source": [
    "def Re_Computation_Planet_Radius(Nr_p,R_p,W1,M_p,rho):\n",
    "    \n",
    "    R_pr = np.zeros(len(Nr_p))\n",
    "    \n",
    "    #Loop of recomputation\n",
    "    for i in range(0,len(Nr_p)):\n",
    "        \n",
    "        #Test si le rayon est connu\n",
    "        if math.isnan(R_p[i]) is False:\n",
    "            R_pr[i] = R_p[i]\n",
    "\n",
    "        #Rayon inconnu : Recalcul du rayon \n",
    "        else:\n",
    "            \n",
    "            if W1[i].find('Kepler') == 0 and (M_p[i]/M_Terre)<= 16 :\n",
    "                #Relation de Wolgang\n",
    "                R_pr[i] = pow( M_p[i]/(2.7*M_Terre) , 10./13)*R_Terre \n",
    "                \n",
    "                \n",
    "            elif M_p[i]<7*M_Terre:\n",
    "                \n",
    "                if math.isnan(rho[i]) is True:\n",
    "                    R_pr[i] = pow( (3./(4*np.pi) ) * (M_p[i]/rho_Terre),1./3)\n",
    "                else:\n",
    "                    R_pr[i] = pow( (3./(4*np.pi) ) * (M_p[i]/rho[i]),1./3)\n",
    "            \n",
    "            else :\n",
    "                \n",
    "                if math.isnan(rho[i]) is True:\n",
    "                    R_pr[i] = pow( (3./(4*np.pi) ) * (M_p[i]/rho_J),1./3)\n",
    "                else:\n",
    "                    R_pr[i] = pow( (3./(4*np.pi) ) * (M_p[i]/rho[i]),1./3)\n",
    "                    \n",
    "    return R_pr"
   ]
  },
  {
   "cell_type": "markdown",
   "metadata": {},
   "source": [
    "# Recomputation of the Planetary effective temperature "
   ]
  },
  {
   "cell_type": "code",
   "execution_count": 10,
   "metadata": {},
   "outputs": [],
   "source": [
    "def Re_Computation_Planet_Eff_Temp(Nr_p,T_p,R_s,S_p,T_s):\n",
    "    \n",
    "    T_pr  = np.zeros(len(Nr_p))\n",
    "    \n",
    "    for i in range(0,len(Nr_p)):\n",
    "        \n",
    "        if math.isnan(T_p[i]) is False:\n",
    "            T_pr[i] = T_p[i]\n",
    "        \n",
    "        else:\n",
    "            T_pr[i] = pow(  ( R_s[i]**2 * (1-A_B) ) / (4*S_p[i]**2)  ,   1./4  ) * T_s[i]\n",
    "    \n",
    "    return T_pr"
   ]
  },
  {
   "cell_type": "markdown",
   "metadata": {},
   "source": [
    "# Thermal Flux Functions"
   ]
  },
  {
   "cell_type": "code",
   "execution_count": 11,
   "metadata": {},
   "outputs": [],
   "source": [
    "def Flux_Stellar(L,T_s,R_s,D_s):\n",
    "    c = 3E8\n",
    "    nu = c/L \n",
    "    a = np.zeros(len(T_s))\n",
    "    for i in range(0,len(a)):\n",
    "        a[i] = 1E26*2*(h*nu**3/c**2)*pow(np.exp((h*nu)/(k_b*T_s[i])) -1, -1) * (R_s[i]/D_s[i])**2 *np.pi\n",
    "    return a"
   ]
  },
  {
   "cell_type": "code",
   "execution_count": 12,
   "metadata": {},
   "outputs": [],
   "source": [
    "def Flux_Planet(L,Nr_p,T_pr,R_pr,D_s):\n",
    "    \n",
    "    nu = c/L \n",
    "    \n",
    "    a = np.zeros(len(Nr_p))\n",
    "\n",
    "    for i in range(0,len(Nr_p)):\n",
    "        a[i] = 1E26*2*(h*nu**3/c**2)*pow(np.exp((h*nu)/(k_b*T_pr[i])) -1, -1) *(R_pr[i]/D_s[i])**2 *np.pi\n",
    "    \n",
    "    return a"
   ]
  },
  {
   "cell_type": "code",
   "execution_count": 13,
   "metadata": {},
   "outputs": [],
   "source": [
    "# FONCTION RENVOYANT LE NOMBRE DE LIGNES DE COMMENTAIRES\n",
    "def countLigne(fichier):\n",
    "\n",
    "    Liste=open(fichier,'r')\n",
    "    i=1\n",
    "    Ligne=Liste.readline()\n",
    "    # \"Tant que la ligne n'est pas égale à \"\" \"\n",
    "    #  ==> tant qu'on est pas arrivé à la fin \n",
    "    while Ligne[0] == \"#\":\n",
    "        #on lit une ligne\n",
    "        Ligne=Liste.readline()\n",
    "        #on ajoute 1 à notre compteur\n",
    "        i+=1\n",
    "\n",
    "    #on retourne le compteur\n",
    "    return i"
   ]
  },
  {
   "cell_type": "markdown",
   "metadata": {},
   "source": [
    "# Integration time function (days)"
   ]
  },
  {
   "cell_type": "code",
   "execution_count": 14,
   "metadata": {},
   "outputs": [],
   "source": [
    "def Integration_time(Nr_p,F_p):\n",
    "    \n",
    "    Time = np.array( np.zeros( len(Nr_p) ) )\n",
    "    \n",
    "    for i in range(0,len(Time)):\n",
    "        Time[i] = S/F_p[i]\n",
    "        Time[i] /= Trans\n",
    "    \n",
    "    return Time"
   ]
  },
  {
   "cell_type": "markdown",
   "metadata": {},
   "source": [
    "# Main function displaying targets"
   ]
  },
  {
   "cell_type": "code",
   "execution_count": 15,
   "metadata": {},
   "outputs": [],
   "source": [
    "def Display_Stars(D,df2,C,Time,fichier_1,hem):\n",
    "    \n",
    "    fichier_1.write(\"\\n\\n########################################################\\n\")\n",
    "\n",
    "    fichier_1.write( \"HOSTS STARS\\n\")\n",
    "\n",
    "    fichier_1.write(\"\\n\"+ hem + \"ERN HEMISPHERE\\n\")\n",
    "\n",
    "    fichier_1.write( \"Parsec\" + '\\t' + \"\\t\" +'\\t' + \"Magnitude\" + '\\t\\t' + 'RA' + '\\t\\t' + 'DEC' + '\\t\\t\\t' + \"Star\")\n",
    "\n",
    "    for i in range(0,len(D[0])):\n",
    "\n",
    "        if math.isnan(D[9][i]) is True:\n",
    "            #D[9][i] = 0\n",
    "            df2.loc[i,'st_optmag']= 0\n",
    "\n",
    "        if hem == 'NORTH':\n",
    "            \n",
    "            if math.isnan(C[i]) is False and C[i]>C_lim and (0 < D[6][i] <= 90) and D[17][i]>=R and  Time[i]<T_max:\n",
    "                fichier_1.write(\n",
    "                    '\\n' \n",
    "                    + str(\"%.2e\" % (D[10][i]/pc)) \n",
    "                    + \"\\t\" \n",
    "                    + str(df2.loc[:,'st_optband'][i])  \n",
    "                    + '\\t' \n",
    "                    + str(\"%.2e\" % df2.loc[:,'st_optmag'][i]) \n",
    "                    + '\\t' \n",
    "                    + str(\"%.2e\"%D[5][i]) \n",
    "                    + '\\t' \n",
    "                    + str(\"%.2e\"%D[6][i]) \n",
    "                    + '\\t' \n",
    "                    + D[13][i])\n",
    "            \n",
    "                \n",
    "        if hem == 'SOUTH':\n",
    "            \n",
    "            if math.isnan(C[i]) is False and C[i]>C_lim and (-90 < D[6][i] <= 0) and D[17][i]>=R and  Time[i]<T_max:\n",
    "                fichier_1.write(\n",
    "                    '\\n' \n",
    "                    + str(\"%.2e\" % (D[10][i]/pc)) \n",
    "                    + \"\\t\" \n",
    "                    + str(df2.loc[:,'st_optband'][i])  \n",
    "                    + '\\t' \n",
    "                    + str(\"%.2e\" % df2.loc[:,'st_optmag'][i]) \n",
    "                    + '\\t' \n",
    "                    + str(\"%.2e\"%D[5][i]) \n",
    "                    + '\\t' \n",
    "                    + str(\"%.2e\"%D[6][i]) \n",
    "                    + '\\t' \n",
    "                    + D[13][i])\n",
    "            \n",
    "            "
   ]
  },
  {
   "cell_type": "code",
   "execution_count": 16,
   "metadata": {},
   "outputs": [],
   "source": [
    "def Display_Planets(D,C,Time,fichier_1,F_p,F_rp,hem):\n",
    "    \n",
    "    if hem == 'NORTH':\n",
    "        a = 0\n",
    "        b = 90\n",
    "    if hem == 'SOUTH':\n",
    "        a = -90\n",
    "        b = 0\n",
    "    \n",
    "    fichier_1.write(\"\\n\\n########################################################\")\n",
    "    \n",
    "    fichier_1.write( \"\\n\\nEXOPLANETS ORBITING HOSTS STARS\\n\")\n",
    "    \n",
    "    fichier_1.write(\"\\n\"+ hem + \"ERN HEMISPHERE\\n\")\n",
    "    \n",
    "    fichier_1.write( \"R_J\" + '\\t\\t\\t' + \"°K\" + '\\t\\t\\t' + \"mas\" + '\\t\\t\\t' + 'FLux(Jy)' + '\\t' + 'R Flux(Jy)' + '\\t' + 'Contrast' + '\\t')\n",
    "    \n",
    "    for i in range(0,len(D[0])):\n",
    "\n",
    "        if math.isnan(D[3][i]) is True:\n",
    "            D[3][i] = 0\n",
    "    \n",
    "        if math.isnan(D[4][i]) is True:\n",
    "            D[4][i] = 0\n",
    "\n",
    "        \n",
    "        if math.isnan(C[i]) is False and C[i]>C_lim and (a < D[6][i] <= b) and D[17][i]>=R and Time[i]<T_max:\n",
    "\n",
    "            fichier_1.write('\\n' \n",
    "                            \n",
    "                + str(\"%.2e\" % (D[3][i]/RJ)) \n",
    "                +'\\t'\n",
    "                + str(\"%.2e\" % D[4][i]) \n",
    "                + '\\t'  \n",
    "                + str(\"%.2e\" % D[17][i]) \n",
    "                +'\\t'\n",
    "                + str(\"%.2e\" % F_p[i]) \n",
    "                + '\\t'\n",
    "                + str(\"%.2e\" % F_rp[i]) \n",
    "                + '\\t'\n",
    "                + str(\"%.2e\" % C[i])\n",
    "                + '\\t' \n",
    "                + str(D[7][i]) \n",
    "                + '\\t' \n",
    "                +  D[13][i])"
   ]
  },
  {
   "cell_type": "code",
   "execution_count": null,
   "metadata": {},
   "outputs": [],
   "source": []
  }
 ],
 "metadata": {
  "kernelspec": {
   "display_name": "Python 3",
   "language": "python",
   "name": "python3"
  },
  "language_info": {
   "codemirror_mode": {
    "name": "ipython",
    "version": 3
   },
   "file_extension": ".py",
   "mimetype": "text/x-python",
   "name": "python",
   "nbconvert_exporter": "python",
   "pygments_lexer": "ipython3",
   "version": "3.5.1"
  }
 },
 "nbformat": 4,
 "nbformat_minor": 2
}
