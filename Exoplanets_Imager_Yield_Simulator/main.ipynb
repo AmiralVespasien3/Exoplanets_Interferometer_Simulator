{
 "cells": [
  {
   "cell_type": "markdown",
   "metadata": {},
   "source": [
    "# Importation of the librairies"
   ]
  },
  {
   "cell_type": "code",
   "execution_count": 1,
   "metadata": {},
   "outputs": [
    {
     "name": "stdout",
     "output_type": "stream",
     "text": [
      "importing Jupyter notebook from functions.ipynb\n"
     ]
    }
   ],
   "source": [
    "import pandas as pd\n",
    "import matplotlib.pyplot as plt\n",
    "import numpy as np\n",
    "import import_ipynb\n",
    "\n",
    "from math import *\n",
    "from functions import *"
   ]
  },
  {
   "cell_type": "markdown",
   "metadata": {},
   "source": [
    "# Extraction of needed astrophysical information "
   ]
  },
  {
   "cell_type": "code",
   "execution_count": 2,
   "metadata": {},
   "outputs": [],
   "source": [
    "l = countLigne(\"planets.csv\")\n",
    "df1 = pd.read_csv(\"planets.csv\",skiprows=l-1)\n",
    "columns = [\n",
    "  \"rowid\",\n",
    " \"pl_hostname\",# COLUMN pl_hostname:    Host Name\n",
    " \"pl_letter\",# COLUMN pl_letter:      Planet Letter\n",
    " \"pl_orbsmax\",# COLUMN pl_orbsmax:     Orbit Semi-Major Axis [AU])\n",
    " \"pl_radj\",# COLUMN pl_radj:        Planet Radius [Jupiter radii]\n",
    " \"pl_dens\",# COLUMN pl_dens:        Planet Density [g/cm**3]\n",
    " \"ra\",# COLUMN ra:             RA [decimal degrees]\n",
    " \"dec\",# COLUMN dec:            Dec [decimal degrees]\n",
    " \"st_dist\",# COLUMN st_dist:        Distance [pc]\n",
    " \"st_optmag\",# COLUMN st_optmag:      Optical Magnitude [mag]\n",
    " \"st_optband\",# COLUMN st_optband:     Optical Magnitude Band\n",
    " \"st_teff\",# COLUMN st_teff:        Effective Temperature [K]\n",
    " \"st_mass\",# COLUMN st_mass:        Stellar Mass [Solar mass]\n",
    " \"st_rad\",# COLUMN st_rad:         Stellar Radius [Solar radii]\n",
    " \"pl_angsep\",# COLUMN pl_angsep:      Calculated Angular Separation [mas]\n",
    " \"pl_eqt\",# COLUMN pl_eqt:         Equilibrium Temperature [K]\n",
    " \"pl_massj\",# COLUMN pl_massj:       Planet Mass [Jupiter mass]\n",
    " \"pl_facility\",# COLUMN pl_facility:    Discovery Facility\n",
    " \"st_wise1\"]\n",
    "\n",
    "df1.drop(columns, inplace=True, axis=1)\n",
    "df1.columns\n",
    "\n",
    "df2 = pd.read_csv(\"planets.csv\",skiprows=l-1)\n",
    "df2.drop(df1.columns, inplace=True, axis=1)"
   ]
  },
  {
   "cell_type": "markdown",
   "metadata": {},
   "source": [
    "#  Naming of needed astrophysical values"
   ]
  },
  {
   "cell_type": "code",
   "execution_count": 3,
   "metadata": {},
   "outputs": [],
   "source": [
    "Nr_p = df2.loc[:,'rowid'] #Numéro de la planète\n",
    "W1   = df2.loc[:,'pl_hostname']\n",
    "P_l = df2.loc[:,'pl_letter']\n",
    "O_p = df2.loc[:,'pl_orbsmax']*AU #Orbite planetes(m)\n",
    "M_p = df2.loc[:,'pl_massj']*MJ #Masse de la planète (kg)\n",
    "R_p = df2.loc[:,'pl_radj']*RJ #Rayon de la planète (m)\n",
    "T_p = df2.loc[:,'pl_eqt']    #Température planétaire en K\n",
    "rho  = df2.loc[:,'pl_dens']*1e3 # Masse volumique de la planète en kilogrammes par mètres cubes \n",
    "P_ad  = df2.loc[:,'ra'] # Ascension droite des planètes en degrés décimaux\n",
    "P_d   = df2.loc[:,'dec'] #Déclinaison des planètes en degrés décimaux\n",
    "P_mt = df2.loc[:,'st_optband'] # Bande Magnitude apparente de l'étoile hôte\n",
    "P_m = df2.loc[:,'st_optmag'] #Magnitude apparente de l'étoile hôte\n",
    "m_L = df2.loc[:,\"st_wise1\"]#Magnitude apparente en Bande Wise 3.4µm (la plus proche de la bande L)\n",
    "M_S = df2.loc[:,\"st_mass\"]*M_so #Masse des étoiles (kg)\n",
    "D_s = df2.loc[:,\"st_dist\"]*pc #Distance stellaire en mètres\n",
    "T_s = df2.loc[:,\"st_teff\"] \t #Température effective stellaire en K\n",
    "R_s = df2.loc[:,\"st_rad\"]*R_so #Rayon stellaire en mètres\n",
    "M_n = df2.loc[:,\"pl_facility\"] # Méthodes de détection pour chaque découvertes\n",
    "S_p = df2.loc[:,\"pl_angsep\"]*m2r*D_s  #Separation étoile-hôte exoplanète en mètres\n",
    "S_pua = df2.loc[:,\"pl_angsep\"]*m2r*D_s/AU # Separation étoile hôte exoplanète en UA\n",
    "S_pa = df2.loc[:,\"pl_angsep\"] #Separation étoile hôte exoplanète en mas"
   ]
  },
  {
   "cell_type": "markdown",
   "metadata": {},
   "source": [
    "# Radius and Temperature recomputation"
   ]
  },
  {
   "cell_type": "code",
   "execution_count": 4,
   "metadata": {},
   "outputs": [],
   "source": [
    "R_pr = Re_Computation_Planet_Radius(Nr_p,R_p,W1,M_p,rho)"
   ]
  },
  {
   "cell_type": "code",
   "execution_count": 5,
   "metadata": {},
   "outputs": [],
   "source": [
    "T_pr = Re_Computation_Planet_Eff_Temp(Nr_p,T_p,R_s,S_p,T_s)"
   ]
  },
  {
   "cell_type": "code",
   "execution_count": 6,
   "metadata": {},
   "outputs": [],
   "source": [
    "#for i in range(0,len(T_pr)):\n",
    "#    print('{:3.2e}'.format(T_pr[i]),'\\t','{:3.2e}'.format(T_p[i]))"
   ]
  },
  {
   "cell_type": "code",
   "execution_count": 7,
   "metadata": {},
   "outputs": [],
   "source": [
    "D = {}\n",
    "D[0]      = Nr_p\n",
    "D[1]      = O_p\n",
    "D[2]      = M_p\n",
    "D[3]      = R_pr\n",
    "D[4]      = T_pr\n",
    "D[5]      = P_ad\n",
    "D[6]      = P_d\n",
    "D[7]      = P_l\n",
    "D[8]      = P_mt\n",
    "D[9]      = P_m\n",
    "D[10]     = D_s\n",
    "D[11]     = T_s\n",
    "D[12]     = R_s\n",
    "D[13]     = W1\n",
    "D[15]     = S_p\n",
    "D[16]     = S_pua\n",
    "D[17]     = S_pa "
   ]
  },
  {
   "cell_type": "markdown",
   "metadata": {},
   "source": [
    "# Flux calculations"
   ]
  },
  {
   "cell_type": "markdown",
   "metadata": {},
   "source": [
    "### Stellar flux"
   ]
  },
  {
   "cell_type": "code",
   "execution_count": 8,
   "metadata": {},
   "outputs": [
    {
     "name": "stdout",
     "output_type": "stream",
     "text": [
      "300\n",
      "3793\n"
     ]
    }
   ],
   "source": [
    "s =0\n",
    "F_s = Flux_Stellar(L,T_s,R_s,D_s)\n",
    "for i in range(0,len(F_s)):\n",
    "    if math.isnan(F_s[i]) is True:\n",
    "        s +=1\n",
    "print(s)\n",
    "print(len(D[0]))"
   ]
  },
  {
   "cell_type": "markdown",
   "metadata": {},
   "source": [
    "### Thermal planetary flux"
   ]
  },
  {
   "cell_type": "code",
   "execution_count": 9,
   "metadata": {},
   "outputs": [
    {
     "name": "stdout",
     "output_type": "stream",
     "text": [
      "2423\n",
      "3793\n"
     ]
    },
    {
     "name": "stderr",
     "output_type": "stream",
     "text": [
      "functions.ipynb:8: RuntimeWarning: overflow encountered in exp\n",
      "  \"source\": [\n"
     ]
    }
   ],
   "source": [
    "s =0\n",
    "F_p = Flux_Planet(L,Nr_p,T_pr,R_pr,D_s)\n",
    "for i in range(0,len(F_p)):\n",
    "    if math.isnan(F_p[i]) is True:\n",
    "        s +=1\n",
    "print(s)\n",
    "print(len(D[0]))"
   ]
  },
  {
   "cell_type": "markdown",
   "metadata": {},
   "source": [
    "### Reflective planetary flux"
   ]
  },
  {
   "cell_type": "code",
   "execution_count": 10,
   "metadata": {},
   "outputs": [],
   "source": [
    "F_rp  =  A_B * (R_pr**2)/(4*O_p**2) * F_s"
   ]
  },
  {
   "cell_type": "markdown",
   "metadata": {},
   "source": [
    "### Total Flux"
   ]
  },
  {
   "cell_type": "code",
   "execution_count": 11,
   "metadata": {},
   "outputs": [],
   "source": [
    "F = F_p + F_rp"
   ]
  },
  {
   "cell_type": "markdown",
   "metadata": {},
   "source": [
    "# Integration time calculation(days)"
   ]
  },
  {
   "cell_type": "code",
   "execution_count": 12,
   "metadata": {},
   "outputs": [],
   "source": [
    "Time = Integration_time(Nr_p,F)"
   ]
  },
  {
   "cell_type": "markdown",
   "metadata": {},
   "source": [
    "# Contrast planet-star calculation"
   ]
  },
  {
   "cell_type": "code",
   "execution_count": 13,
   "metadata": {},
   "outputs": [],
   "source": [
    "C = F/F_s"
   ]
  },
  {
   "cell_type": "markdown",
   "metadata": {},
   "source": [
    "# Selection of the targets"
   ]
  },
  {
   "cell_type": "code",
   "execution_count": 14,
   "metadata": {},
   "outputs": [
    {
     "data": {
      "text/plain": [
       "43"
      ]
     },
     "execution_count": 14,
     "metadata": {},
     "output_type": "execute_result"
    }
   ],
   "source": [
    "#Mise a 0 du compteur\n",
    "s=0 \n",
    "\n",
    "fichier_1 = open(\"Targets_HI5.tbl\",\"w\")\n",
    "fichier_2 = open(\"TARGETS_NAMES.tbl\",\"w\")\n",
    "\n",
    "fichier_1.write(\"\\n\")\n",
    "fichier_1.write( \"Observation wavelength : \" + str(\"%.2e\" %L) + \" m\" )\n",
    "fichier_1.write(\"\\n\")\n",
    "fichier_1.write( \"Bond Albedo: \" + str(\"%.2e\" %A_B) )\n",
    "fichier_1.write(\"\\n\")\n",
    "fichier_1.write( \"The base line is: \" + str(\"%.2e\" %B_max) + \" m\" )\n",
    "fichier_1.write(\"\\n\")\n",
    "fichier_1.write(\"Flux is the thermal flux of the planet \\nR flux is the reflective flux of the planet\")\n",
    "fichier_1.write(\"\\n\")\n",
    "fichier_1.write(\"The contrast is computed for the total flux\")"
   ]
  },
  {
   "cell_type": "code",
   "execution_count": 15,
   "metadata": {},
   "outputs": [],
   "source": [
    "hem = 'NORTH'\n",
    "Display_Stars(D,df2,C,Time,fichier_1,hem)\n",
    "hem = 'SOUTH'\n",
    "Display_Stars(D,df2,C,Time,fichier_1,hem)"
   ]
  },
  {
   "cell_type": "code",
   "execution_count": 16,
   "metadata": {},
   "outputs": [],
   "source": [
    "hem = 'NORTH'\n",
    "Display_Planets(D,C,Time,fichier_1,F_p,F_rp,hem)\n",
    "hem = 'SOUTH'\n",
    "Display_Planets(D,C,Time,fichier_1,F_p,F_rp,hem)"
   ]
  },
  {
   "cell_type": "code",
   "execution_count": 17,
   "metadata": {},
   "outputs": [],
   "source": [
    "fichier_1.close()\n",
    "fichier_2.close()"
   ]
  },
  {
   "cell_type": "code",
   "execution_count": 18,
   "metadata": {},
   "outputs": [
    {
     "name": "stdout",
     "output_type": "stream",
     "text": [
      "s = 2458\n"
     ]
    }
   ],
   "source": [
    "s = 0\n",
    "for i in range(0,len(D[0])):\n",
    "    if math.isnan(S_pa[i]) is True:\n",
    "        df2.loc[i,\"pl_angsep\"] = 0\n",
    "    if math.isnan(C[i]) is True:\n",
    "        C[i] = 0\n",
    "        s += 1\n",
    "print('s =',s)"
   ]
  },
  {
   "cell_type": "markdown",
   "metadata": {},
   "source": [
    "# Displaying the graphics"
   ]
  },
  {
   "cell_type": "code",
   "execution_count": null,
   "metadata": {},
   "outputs": [],
   "source": [
    "plt.figure(figsize=(15, 10), dpi=100)\n",
    "\n",
    "f =20\n",
    "\n",
    "plt.title(u\"Constrast vs Angular separation \\n\" + \"$\\lambda$ = \" + str(\"%.2e\"%L) + \" m\" ,fontsize = f)\n",
    "plt.xlabel(u\"Angular separartion (mas)\",fontsize = f)\n",
    "plt.ylabel(u\"Contrast\",fontsize = f)\n",
    "\n",
    "plt.ylim(ymin=1e-10, ymax=1e-3)\n",
    "plt.xlim(xmin = 1e-3,xmax=1e3)\n",
    "\n",
    "plt.xscale('log')\n",
    "plt.yscale('log')\n",
    "\n",
    "plt.grid(True)\n",
    "\n",
    "print(\"Don't panic ! It is computing...\")\n",
    "\n",
    "compteur = 0\n",
    "\n",
    "for i in range(0,len(D[0])):\n",
    "    \n",
    "    if C[i]!=0 or df2.loc[i,\"pl_angsep\"] != 0:\n",
    "        \n",
    "        if C[i]>=C_lim and R <= D[17][i] <= OWA and Time[i]<T_max:\n",
    "        \n",
    "            #print(C[i], D[17][i])\n",
    "\n",
    "            compteur += 1\n",
    "\n",
    "            plt.plot(S_pa[i],C[i],'o',label= D[13][i] + '\\t'+ D[7][i] )\n",
    "\n",
    "        else :\n",
    "            plt.plot(S_pa[i],C[i],'o',color='grey')\n",
    "\n",
    "if compteur < 30:\n",
    "    plt.legend(prop={'size':10})\n",
    "\n",
    "plt.savefig('./Contrast_AngularResolution.png')\n",
    "plt.show()"
   ]
  },
  {
   "cell_type": "code",
   "execution_count": null,
   "metadata": {},
   "outputs": [],
   "source": []
  }
 ],
 "metadata": {
  "kernelspec": {
   "display_name": "Python 3",
   "language": "python",
   "name": "python3"
  },
  "language_info": {
   "codemirror_mode": {
    "name": "ipython",
    "version": 3
   },
   "file_extension": ".py",
   "mimetype": "text/x-python",
   "name": "python",
   "nbconvert_exporter": "python",
   "pygments_lexer": "ipython3",
   "version": "3.5.1"
  }
 },
 "nbformat": 4,
 "nbformat_minor": 2
}
